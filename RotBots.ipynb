{
 "cells": [
  {
   "cell_type": "code",
   "execution_count": 1,
   "metadata": {
    "collapsed": false
   },
   "outputs": [
    {
     "name": "stderr",
     "output_type": "stream",
     "text": [
      "/Users/lucianne/lsst/DarwinX86/anaconda/1.8.0/lib/python2.7/site-packages/matplotlib/font_manager.py:273: UserWarning: Matplotlib is building the font cache using fc-list. This may take a moment.\n",
      "  warnings.warn('Matplotlib is building the font cache using fc-list. This may take a moment.')\n"
     ]
    }
   ],
   "source": [
    "import numpy as np\n",
    "%matplotlib inline\n",
    "import matplotlib.pyplot as plt\n",
    "import pandas as pd\n",
    "import tweepy"
   ]
  },
  {
   "cell_type": "markdown",
   "metadata": {},
   "source": [
    "Read in Varol et al. 2017 bot data-- first column is Twitter ID, and I believe \"1\" is their bot flag, 0 is not a bot. Cursory examination of a few accounts seems that all the accounts below are made up of users who heavily/solely retweet, whether human or bot. \n"
   ]
  },
  {
   "cell_type": "code",
   "execution_count": 2,
   "metadata": {
    "collapsed": false
   },
   "outputs": [],
   "source": [
    "BotData = pd.DataFrame(pd.read_csv('varol-2017.csv', names=['UID','BotFlag']))"
   ]
  },
  {
   "cell_type": "code",
   "execution_count": 3,
   "metadata": {
    "collapsed": true
   },
   "outputs": [],
   "source": [
    "bots = BotData[BotData['BotFlag'] == 1]\n",
    "humans = BotData[BotData['BotFlag'] == 0]"
   ]
  },
  {
   "cell_type": "code",
   "execution_count": 4,
   "metadata": {
    "collapsed": true
   },
   "outputs": [],
   "source": [
    "keys = pd.read_csv('keys.txt', header=None)"
   ]
  },
  {
   "cell_type": "code",
   "execution_count": 5,
   "metadata": {
    "collapsed": true
   },
   "outputs": [],
   "source": [
    "consumer_key = keys[0][0]\n",
    "consumer_secret = keys[0][1]\n",
    "access_token = keys[0][2]\n",
    "access_token_secret = keys[0][3]"
   ]
  },
  {
   "cell_type": "code",
   "execution_count": 7,
   "metadata": {
    "collapsed": false
   },
   "outputs": [
    {
     "name": "stdout",
     "output_type": "stream",
     "text": [
      "RT @katylalonde: Interested in digital? Want to work for the Ontario Digital Service? We have 7 jobs posted!!! https://t.co/7hsnad6mzJ\n",
      "RT @SarahMackAttack: This summer I'm trying to recruit 1000 scientists for #SkypeAScientist!  Please tell your scientist friends! https://t…\n",
      "First Asian Country To Legalize Marriage Equality: https://t.co/Y0vN0Kcsud via @YouTube\n",
      "These will be unusual shows, mostly in museums and galleries and performance spaces. An extension of BP's \"Immersive Ideal\" project.\n",
      "RT @meakoopa: America, carelessly sowing the wind. https://t.co/50JKObVj5S\n",
      "1/ The following is the question in response to the Jeopardy answer behind the $400 entry in\"Things that are not reassuring\" ...\n",
      "At #OpenGlobalSouth: Kim Fortun: working with the Research Data Alliance https://t.co/7YY4pCay1e on issues like #metadata\n",
      "Any 10-year forecast that ignores planetary crisis, destabilizing democracies+ precarity because they're not shiny is instantly recyclable.\n",
      "The conservative obsession with journalists is a 40+ year old political tactic because their movement is especially vulnerable to questions\n",
      "RT @JesseFFerguson: NEW from WSJ - \n",
      "\n",
      "WH wants to get a lawyer to babysit the President's twitter feed. \n",
      "\n",
      "https://t.co/Oj9a0lxwQw https://t.…\n",
      "I took the day off today to play mini golf in West Virginia. #coalcountry #coalcountryminigolf https://t.co/kGjrKn28id\n",
      "The Weight Of James Arthur Baldwin https://t.co/flLqEOrusY\n",
      "@asrivkin @PlanetDr @JohnsHopkins Seems to be a wide variety of fruit sizes too: https://t.co/2cizjm7wtf\n",
      "@Alex_Parker BOINK for sure.\n",
      "So cool! \n",
      "\n",
      "https://t.co/VWxKfedPNs\n",
      "RT @kylegriffin1: Reuters: Rex Tillerson declines to host Ramadan event at the State Department, breaking near 20-year tradition https://t.…\n",
      "We're closely watching the newly warned storm heading into southeast Livingston and Ford counties for rotation &amp; tornado potential. #ilwx\n",
      "RT @colonel_trilL: Soldier Dying on Omaha Beach.\n",
      "\"dont forget to tell my wife i love her...\n",
      "and...and...honor me every year with a\n",
      ".....mat…\n",
      "At #OpenGlobalSouth: Kim Fortun: embedded in PECE platform best practices for data sharing (e.g., for NSF grants or other projects)\n"
     ]
    }
   ],
   "source": [
    "auth = tweepy.OAuthHandler(consumer_key, consumer_secret)\n",
    "auth.set_access_token(access_token, access_token_secret)\n",
    "\n",
    "api = tweepy.API(auth)\n",
    "\n",
    "#test everything's working a-ok, can see my own timeline\n",
    "public_tweets = api.home_timeline()\n",
    "for tweet in public_tweets:\n",
    "    print tweet.text"
   ]
  },
  {
   "cell_type": "markdown",
   "metadata": {},
   "source": [
    "Clean the training set of suspended/deleted accounts"
   ]
  },
  {
   "cell_type": "code",
   "execution_count": 80,
   "metadata": {
    "collapsed": false
   },
   "outputs": [
    {
     "name": "stdout",
     "output_type": "stream",
     "text": [
      "3098421349\n",
      "554067867\n",
      "256597786\n",
      "103351486\n",
      "199973582\n",
      "22942001\n",
      "338914454\n",
      "139758430\n",
      "2174620748\n",
      "3264569385\n",
      "15109265\n",
      "724324885\n",
      "35457209\n",
      "83683408\n",
      "575402168\n",
      "2512221956\n",
      "3018439679\n",
      "434308370\n",
      "3295996710\n",
      "167561205\n",
      "4422755772\n",
      "1068221456\n",
      "3673821932\n",
      "72126063\n",
      "3233845421\n",
      "16313297\n",
      "628493945\n",
      "1622413069\n",
      "523247729\n",
      "2312109649\n",
      "1977872942\n",
      "3294732860\n",
      "2838900554\n",
      "403078748\n",
      "1390556054\n",
      "21125645\n",
      "1154538534\n",
      "35289761\n",
      "1467026630\n",
      "2784221536\n",
      "321519271\n",
      "2802302704\n",
      "4376518697\n",
      "3581994913\n",
      "312931148\n",
      "961897154\n",
      "2687223536\n",
      "154155992\n",
      "258478116\n",
      "2961735746\n",
      "119064154\n",
      "611657123\n",
      "82323247\n",
      "2244794124\n",
      "3393094667\n",
      "35623824\n",
      "4128024430\n",
      "857490530\n",
      "474263130\n",
      "3231663692\n",
      "128466477\n",
      "854201534\n",
      "1254765698\n",
      "476919617\n",
      "1682313314\n",
      "2960981093\n",
      "3287695303\n",
      "202539396\n",
      "2900371521\n",
      "121857594\n",
      "203939641\n",
      "124640990\n",
      "51948170\n",
      "2953167296\n",
      "2803341352\n",
      "166882121\n",
      "2965914446\n",
      "2986196889\n",
      "2245462992\n",
      "2853501332\n",
      "2201333669\n",
      "3979873394\n",
      "1970328174\n",
      "12595312\n",
      "47499461\n",
      "3398729818\n",
      "3223536685\n",
      "889795548\n",
      "29086373\n",
      "2231476190\n",
      "123214345\n",
      "231718751\n",
      "17861479\n",
      "390146736\n",
      "10086382\n"
     ]
    }
   ],
   "source": [
    "#existence check + get status objects for bots that do exist\n",
    "bot_user_ids = bots['UID']\n",
    "bot_flags = bots['BotFlag']\n",
    "botlist = bot_user_ids.tolist()\n",
    "\n",
    "#annoyingly, can only do this for 100 at a time\n",
    "botlist = botlist[0:99]\n",
    "test = api.lookup_users(user_ids=botlist)\n",
    "#test is a list of user objects only for accounts that exist in the list\n",
    "\n",
    "#below is wrong, only checks remaining entries so everything's always included\n",
    "for stat in test:\n",
    "    print stat.id\n",
    "    if stat.id not in botlist:\n",
    "        print 2\n",
    "        \n",
    "#Once the above is fixed, delete non existent entries from the original dataframe and proceed w classifier"
   ]
  },
  {
   "cell_type": "markdown",
   "metadata": {},
   "source": [
    "Train the classifier!"
   ]
  },
  {
   "cell_type": "code",
   "execution_count": null,
   "metadata": {
    "collapsed": true
   },
   "outputs": [],
   "source": [
    "#implement RF here"
   ]
  },
  {
   "cell_type": "markdown",
   "metadata": {},
   "source": [
    "Get the id's of people who retweeted something -- we want to know what fraction of them are bots"
   ]
  },
  {
   "cell_type": "code",
   "execution_count": 58,
   "metadata": {
    "collapsed": false
   },
   "outputs": [
    {
     "name": "stdout",
     "output_type": "stream",
     "text": [
      "Thrilled for our @LSST C #DataScience Fellowship Program to be in @WIRED! Many wonderful ppl/projects to follow here https://t.co/waa6dZNvSI\n",
      "868133368147451907\n"
     ]
    }
   ],
   "source": [
    "#grab a tweet from a particular user-- me in this example\n",
    "\n",
    "firstTweet = api.user_timeline(\"shaka_lulu\")[2]\n",
    "print firstTweet.text\n",
    "\n",
    "#this is the id of the tweet\n",
    "print firstTweet.id\n",
    "\n",
    "#these are status objects attached to the specific tweet I searched on\n",
    "statuses = api.retweets(firstTweet.id) "
   ]
  },
  {
   "cell_type": "code",
   "execution_count": 59,
   "metadata": {
    "collapsed": false
   },
   "outputs": [
    {
     "name": "stdout",
     "output_type": "stream",
     "text": [
      "David Jaimes\n",
      "3095196512\n",
      "Jonathan Sick\n",
      "329230371\n"
     ]
    }
   ],
   "source": [
    "#print the name and user id for the people who retweeted it\n",
    "for status in statuses:\n",
    "    print status.user.name\n",
    "    print status.user.id"
   ]
  },
  {
   "cell_type": "code",
   "execution_count": null,
   "metadata": {
    "collapsed": true
   },
   "outputs": [],
   "source": []
  }
 ],
 "metadata": {
  "kernelspec": {
   "display_name": "Python 2",
   "language": "python",
   "name": "python2"
  },
  "language_info": {
   "codemirror_mode": {
    "name": "ipython",
    "version": 2
   },
   "file_extension": ".py",
   "mimetype": "text/x-python",
   "name": "python",
   "nbconvert_exporter": "python",
   "pygments_lexer": "ipython2",
   "version": "2.7.11"
  }
 },
 "nbformat": 4,
 "nbformat_minor": 0
}
